{
  "nbformat": 4,
  "nbformat_minor": 0,
  "metadata": {
    "colab": {
      "provenance": [],
      "authorship_tag": "ABX9TyOF3EiMBZ26jgpr6olMF2gP"
    },
    "kernelspec": {
      "name": "ir",
      "display_name": "R"
    },
    "language_info": {
      "name": "R"
    }
  },
  "cells": [
    {
      "cell_type": "code",
      "execution_count": 38,
      "metadata": {
        "colab": {
          "base_uri": "https://localhost:8080/"
        },
        "id": "t8htM0kCJ-LI",
        "outputId": "afd59ecd-c2ad-4d16-f6a8-05e059039f20"
      },
      "outputs": [
        {
          "output_type": "stream",
          "name": "stderr",
          "text": [
            "Installing package into ‘/usr/local/lib/R/site-library’\n",
            "(as ‘lib’ is unspecified)\n",
            "\n",
            "Installing package into ‘/usr/local/lib/R/site-library’\n",
            "(as ‘lib’ is unspecified)\n",
            "\n",
            "Installing package into ‘/usr/local/lib/R/site-library’\n",
            "(as ‘lib’ is unspecified)\n",
            "\n"
          ]
        }
      ],
      "source": [
        "install.packages('caret', repos='http://cran.rstudio.com/')\n",
        "install.packages('mlbench', repos='http://cran.rstudio.com/')\n",
        "install.packages('MLmetrics', repos='http://cran.rstudio.com/')"
      ]
    },
    {
      "cell_type": "markdown",
      "source": [
        "## build ML to classify diabetes patients (binary classification)"
      ],
      "metadata": {
        "id": "arYleFJUK0um"
      }
    },
    {
      "cell_type": "code",
      "source": [
        "library(tidyverse)\n",
        "library(caret)\n",
        "library(mlbench)\n",
        "library(MLmetrics)"
      ],
      "metadata": {
        "id": "m7gQkXZEKHBJ"
      },
      "execution_count": 39,
      "outputs": []
    },
    {
      "cell_type": "markdown",
      "source": [
        "## Load dataset"
      ],
      "metadata": {
        "id": "3LKy-LMCLAhU"
      }
    },
    {
      "cell_type": "code",
      "source": [
        "data(\"PimaIndiansDiabetes\")\n",
        "df <- PimaIndiansDiabetes"
      ],
      "metadata": {
        "id": "7MbUiDD2LC9T"
      },
      "execution_count": 40,
      "outputs": []
    },
    {
      "cell_type": "markdown",
      "source": [
        "## Explore dataset"
      ],
      "metadata": {
        "id": "AYoL9QVXLOql"
      }
    },
    {
      "cell_type": "code",
      "source": [
        "head(df)\n",
        "glimpse(df)"
      ],
      "metadata": {
        "id": "eQg9nO0ULItQ",
        "colab": {
          "base_uri": "https://localhost:8080/",
          "height": 477
        },
        "outputId": "f4cc5671-de00-44cd-a196-b36d1ddaf22b"
      },
      "execution_count": 41,
      "outputs": [
        {
          "output_type": "display_data",
          "data": {
            "text/html": [
              "<table class=\"dataframe\">\n",
              "<caption>A data.frame: 6 × 9</caption>\n",
              "<thead>\n",
              "\t<tr><th></th><th scope=col>pregnant</th><th scope=col>glucose</th><th scope=col>pressure</th><th scope=col>triceps</th><th scope=col>insulin</th><th scope=col>mass</th><th scope=col>pedigree</th><th scope=col>age</th><th scope=col>diabetes</th></tr>\n",
              "\t<tr><th></th><th scope=col>&lt;dbl&gt;</th><th scope=col>&lt;dbl&gt;</th><th scope=col>&lt;dbl&gt;</th><th scope=col>&lt;dbl&gt;</th><th scope=col>&lt;dbl&gt;</th><th scope=col>&lt;dbl&gt;</th><th scope=col>&lt;dbl&gt;</th><th scope=col>&lt;dbl&gt;</th><th scope=col>&lt;fct&gt;</th></tr>\n",
              "</thead>\n",
              "<tbody>\n",
              "\t<tr><th scope=row>1</th><td>6</td><td>148</td><td>72</td><td>35</td><td>  0</td><td>33.6</td><td>0.627</td><td>50</td><td>pos</td></tr>\n",
              "\t<tr><th scope=row>2</th><td>1</td><td> 85</td><td>66</td><td>29</td><td>  0</td><td>26.6</td><td>0.351</td><td>31</td><td>neg</td></tr>\n",
              "\t<tr><th scope=row>3</th><td>8</td><td>183</td><td>64</td><td> 0</td><td>  0</td><td>23.3</td><td>0.672</td><td>32</td><td>pos</td></tr>\n",
              "\t<tr><th scope=row>4</th><td>1</td><td> 89</td><td>66</td><td>23</td><td> 94</td><td>28.1</td><td>0.167</td><td>21</td><td>neg</td></tr>\n",
              "\t<tr><th scope=row>5</th><td>0</td><td>137</td><td>40</td><td>35</td><td>168</td><td>43.1</td><td>2.288</td><td>33</td><td>pos</td></tr>\n",
              "\t<tr><th scope=row>6</th><td>5</td><td>116</td><td>74</td><td> 0</td><td>  0</td><td>25.6</td><td>0.201</td><td>30</td><td>neg</td></tr>\n",
              "</tbody>\n",
              "</table>\n"
            ],
            "text/markdown": "\nA data.frame: 6 × 9\n\n| <!--/--> | pregnant &lt;dbl&gt; | glucose &lt;dbl&gt; | pressure &lt;dbl&gt; | triceps &lt;dbl&gt; | insulin &lt;dbl&gt; | mass &lt;dbl&gt; | pedigree &lt;dbl&gt; | age &lt;dbl&gt; | diabetes &lt;fct&gt; |\n|---|---|---|---|---|---|---|---|---|---|\n| 1 | 6 | 148 | 72 | 35 |   0 | 33.6 | 0.627 | 50 | pos |\n| 2 | 1 |  85 | 66 | 29 |   0 | 26.6 | 0.351 | 31 | neg |\n| 3 | 8 | 183 | 64 |  0 |   0 | 23.3 | 0.672 | 32 | pos |\n| 4 | 1 |  89 | 66 | 23 |  94 | 28.1 | 0.167 | 21 | neg |\n| 5 | 0 | 137 | 40 | 35 | 168 | 43.1 | 2.288 | 33 | pos |\n| 6 | 5 | 116 | 74 |  0 |   0 | 25.6 | 0.201 | 30 | neg |\n\n",
            "text/latex": "A data.frame: 6 × 9\n\\begin{tabular}{r|lllllllll}\n  & pregnant & glucose & pressure & triceps & insulin & mass & pedigree & age & diabetes\\\\\n  & <dbl> & <dbl> & <dbl> & <dbl> & <dbl> & <dbl> & <dbl> & <dbl> & <fct>\\\\\n\\hline\n\t1 & 6 & 148 & 72 & 35 &   0 & 33.6 & 0.627 & 50 & pos\\\\\n\t2 & 1 &  85 & 66 & 29 &   0 & 26.6 & 0.351 & 31 & neg\\\\\n\t3 & 8 & 183 & 64 &  0 &   0 & 23.3 & 0.672 & 32 & pos\\\\\n\t4 & 1 &  89 & 66 & 23 &  94 & 28.1 & 0.167 & 21 & neg\\\\\n\t5 & 0 & 137 & 40 & 35 & 168 & 43.1 & 2.288 & 33 & pos\\\\\n\t6 & 5 & 116 & 74 &  0 &   0 & 25.6 & 0.201 & 30 & neg\\\\\n\\end{tabular}\n",
            "text/plain": [
              "  pregnant glucose pressure triceps insulin mass pedigree age diabetes\n",
              "1 6        148     72       35        0     33.6 0.627    50  pos     \n",
              "2 1         85     66       29        0     26.6 0.351    31  neg     \n",
              "3 8        183     64        0        0     23.3 0.672    32  pos     \n",
              "4 1         89     66       23       94     28.1 0.167    21  neg     \n",
              "5 0        137     40       35      168     43.1 2.288    33  pos     \n",
              "6 5        116     74        0        0     25.6 0.201    30  neg     "
            ]
          },
          "metadata": {}
        },
        {
          "output_type": "stream",
          "name": "stdout",
          "text": [
            "Rows: 768\n",
            "Columns: 9\n",
            "$ pregnant \u001b[3m\u001b[90m<dbl>\u001b[39m\u001b[23m 6, 1, 8, 1, 0, 5, 3, 10, 2, 8, 4, 10, 10, 1, 5, 7, 0, 7, 1, 1…\n",
            "$ glucose  \u001b[3m\u001b[90m<dbl>\u001b[39m\u001b[23m 148, 85, 183, 89, 137, 116, 78, 115, 197, 125, 110, 168, 139,…\n",
            "$ pressure \u001b[3m\u001b[90m<dbl>\u001b[39m\u001b[23m 72, 66, 64, 66, 40, 74, 50, 0, 70, 96, 92, 74, 80, 60, 72, 0,…\n",
            "$ triceps  \u001b[3m\u001b[90m<dbl>\u001b[39m\u001b[23m 35, 29, 0, 23, 35, 0, 32, 0, 45, 0, 0, 0, 0, 23, 19, 0, 47, 0…\n",
            "$ insulin  \u001b[3m\u001b[90m<dbl>\u001b[39m\u001b[23m 0, 0, 0, 94, 168, 0, 88, 0, 543, 0, 0, 0, 0, 846, 175, 0, 230…\n",
            "$ mass     \u001b[3m\u001b[90m<dbl>\u001b[39m\u001b[23m 33.6, 26.6, 23.3, 28.1, 43.1, 25.6, 31.0, 35.3, 30.5, 0.0, 37…\n",
            "$ pedigree \u001b[3m\u001b[90m<dbl>\u001b[39m\u001b[23m 0.627, 0.351, 0.672, 0.167, 2.288, 0.201, 0.248, 0.134, 0.158…\n",
            "$ age      \u001b[3m\u001b[90m<dbl>\u001b[39m\u001b[23m 50, 31, 32, 21, 33, 30, 26, 29, 53, 54, 30, 34, 57, 59, 51, 3…\n",
            "$ diabetes \u001b[3m\u001b[90m<fct>\u001b[39m\u001b[23m pos, neg, pos, neg, pos, neg, pos, neg, pos, pos, neg, pos, n…\n"
          ]
        }
      ]
    },
    {
      "cell_type": "markdown",
      "source": [
        "## Check missing value\n",
        "## if output is 1 = no missing value"
      ],
      "metadata": {
        "id": "C9FNjDvvOaEW"
      }
    },
    {
      "cell_type": "code",
      "source": [
        "mean(complete.cases(df))"
      ],
      "metadata": {
        "colab": {
          "base_uri": "https://localhost:8080/",
          "height": 34
        },
        "id": "vDi1IPlOOozO",
        "outputId": "ebf61000-0163-4fbe-83cc-4fcb639fe141"
      },
      "execution_count": 42,
      "outputs": [
        {
          "output_type": "display_data",
          "data": {
            "text/html": [
              "1"
            ],
            "text/markdown": "1",
            "text/latex": "1",
            "text/plain": [
              "[1] 1"
            ]
          },
          "metadata": {}
        }
      ]
    },
    {
      "cell_type": "markdown",
      "source": [
        "## Select variables\n"
      ],
      "metadata": {
        "id": "gYHsQMZVO8bg"
      }
    },
    {
      "cell_type": "code",
      "source": [
        "df_starter <- df %>%\n",
        "  select(2,5,6,8,diabetes)\n",
        "\n",
        "head(df_starter)"
      ],
      "metadata": {
        "colab": {
          "base_uri": "https://localhost:8080/",
          "height": 286
        },
        "id": "YV8fRFPvPEww",
        "outputId": "74c705e2-ec6a-44ad-c4ee-467abe68ac0c"
      },
      "execution_count": 43,
      "outputs": [
        {
          "output_type": "display_data",
          "data": {
            "text/html": [
              "<table class=\"dataframe\">\n",
              "<caption>A data.frame: 6 × 5</caption>\n",
              "<thead>\n",
              "\t<tr><th></th><th scope=col>glucose</th><th scope=col>insulin</th><th scope=col>mass</th><th scope=col>age</th><th scope=col>diabetes</th></tr>\n",
              "\t<tr><th></th><th scope=col>&lt;dbl&gt;</th><th scope=col>&lt;dbl&gt;</th><th scope=col>&lt;dbl&gt;</th><th scope=col>&lt;dbl&gt;</th><th scope=col>&lt;fct&gt;</th></tr>\n",
              "</thead>\n",
              "<tbody>\n",
              "\t<tr><th scope=row>1</th><td>148</td><td>  0</td><td>33.6</td><td>50</td><td>pos</td></tr>\n",
              "\t<tr><th scope=row>2</th><td> 85</td><td>  0</td><td>26.6</td><td>31</td><td>neg</td></tr>\n",
              "\t<tr><th scope=row>3</th><td>183</td><td>  0</td><td>23.3</td><td>32</td><td>pos</td></tr>\n",
              "\t<tr><th scope=row>4</th><td> 89</td><td> 94</td><td>28.1</td><td>21</td><td>neg</td></tr>\n",
              "\t<tr><th scope=row>5</th><td>137</td><td>168</td><td>43.1</td><td>33</td><td>pos</td></tr>\n",
              "\t<tr><th scope=row>6</th><td>116</td><td>  0</td><td>25.6</td><td>30</td><td>neg</td></tr>\n",
              "</tbody>\n",
              "</table>\n"
            ],
            "text/markdown": "\nA data.frame: 6 × 5\n\n| <!--/--> | glucose &lt;dbl&gt; | insulin &lt;dbl&gt; | mass &lt;dbl&gt; | age &lt;dbl&gt; | diabetes &lt;fct&gt; |\n|---|---|---|---|---|---|\n| 1 | 148 |   0 | 33.6 | 50 | pos |\n| 2 |  85 |   0 | 26.6 | 31 | neg |\n| 3 | 183 |   0 | 23.3 | 32 | pos |\n| 4 |  89 |  94 | 28.1 | 21 | neg |\n| 5 | 137 | 168 | 43.1 | 33 | pos |\n| 6 | 116 |   0 | 25.6 | 30 | neg |\n\n",
            "text/latex": "A data.frame: 6 × 5\n\\begin{tabular}{r|lllll}\n  & glucose & insulin & mass & age & diabetes\\\\\n  & <dbl> & <dbl> & <dbl> & <dbl> & <fct>\\\\\n\\hline\n\t1 & 148 &   0 & 33.6 & 50 & pos\\\\\n\t2 &  85 &   0 & 26.6 & 31 & neg\\\\\n\t3 & 183 &   0 & 23.3 & 32 & pos\\\\\n\t4 &  89 &  94 & 28.1 & 21 & neg\\\\\n\t5 & 137 & 168 & 43.1 & 33 & pos\\\\\n\t6 & 116 &   0 & 25.6 & 30 & neg\\\\\n\\end{tabular}\n",
            "text/plain": [
              "  glucose insulin mass age diabetes\n",
              "1 148       0     33.6 50  pos     \n",
              "2  85       0     26.6 31  neg     \n",
              "3 183       0     23.3 32  pos     \n",
              "4  89      94     28.1 21  neg     \n",
              "5 137     168     43.1 33  pos     \n",
              "6 116       0     25.6 30  neg     "
            ]
          },
          "metadata": {}
        }
      ]
    },
    {
      "cell_type": "markdown",
      "source": [
        "## ML workflow\n",
        "## Split data >> Train data >> Score data >> Evaluate data"
      ],
      "metadata": {
        "id": "urXMSodIPTHb"
      }
    },
    {
      "cell_type": "markdown",
      "source": [
        "## 1. Split data"
      ],
      "metadata": {
        "id": "QjcIknV9Pr3d"
      }
    },
    {
      "cell_type": "code",
      "source": [
        "set.seed(99)\n",
        "n <- nrow(df_starter)\n",
        "id <- sample(1:n , size = 0.8)\n",
        "df_train <- df_starter[id,]\n",
        "df_test <- df_starter[-id,]"
      ],
      "metadata": {
        "id": "my4pasKmPxz1"
      },
      "execution_count": 44,
      "outputs": []
    },
    {
      "cell_type": "markdown",
      "source": [
        "## 2. Train model\n",
        "## logistic regression"
      ],
      "metadata": {
        "id": "uoWoWes8RLtN"
      }
    },
    {
      "cell_type": "code",
      "source": [
        "crtl <- trainControl(method = \"cv\",\n",
        "                     number = 5) ## resampling with k fold cross validation 5 fold\n",
        "\n",
        "\n",
        "logis_model <- train(diabetes ~ .,\n",
        "                   data = train_df,\n",
        "                   method = \"glm\",\n",
        "                   metric = \"Accuracy\",\n",
        "                   trControl = ctrl)"
      ],
      "metadata": {
        "id": "9gTTP75BRYry"
      },
      "execution_count": 45,
      "outputs": []
    },
    {
      "cell_type": "markdown",
      "source": [
        "## 3. Score"
      ],
      "metadata": {
        "id": "geAVjbA3S3Q-"
      }
    },
    {
      "cell_type": "code",
      "source": [
        "p <- predict(logis_model, newdata = test_df)"
      ],
      "metadata": {
        "id": "_ZsrwiIRS813"
      },
      "execution_count": 46,
      "outputs": []
    },
    {
      "cell_type": "markdown",
      "source": [
        "4. Evaluate"
      ],
      "metadata": {
        "id": "1HOt2BaETKuU"
      }
    },
    {
      "cell_type": "code",
      "source": [
        "mean(p == test_df$diabetes)"
      ],
      "metadata": {
        "colab": {
          "base_uri": "https://localhost:8080/",
          "height": 34
        },
        "id": "6zY5fKgNTCLi",
        "outputId": "873d87fc-10ab-4b6f-8d90-e7a0a34f289c"
      },
      "execution_count": 47,
      "outputs": [
        {
          "output_type": "display_data",
          "data": {
            "text/html": [
              "0.779220779220779"
            ],
            "text/markdown": "0.779220779220779",
            "text/latex": "0.779220779220779",
            "text/plain": [
              "[1] 0.7792208"
            ]
          },
          "metadata": {}
        }
      ]
    },
    {
      "cell_type": "markdown",
      "source": [
        "### Our model Accuracy = 0.779220779220779"
      ],
      "metadata": {
        "id": "VQmqQ7kJTct8"
      }
    }
  ]
}