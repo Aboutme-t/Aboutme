{
  "nbformat": 4,
  "nbformat_minor": 0,
  "metadata": {
    "colab": {
      "provenance": [],
      "authorship_tag": "ABX9TyMxv7R+o1100XfZV2rLclNq",
      "include_colab_link": true
    },
    "kernelspec": {
      "name": "ir",
      "display_name": "R"
    },
    "language_info": {
      "name": "R"
    }
  },
  "cells": [
    {
      "cell_type": "markdown",
      "metadata": {
        "id": "view-in-github",
        "colab_type": "text"
      },
      "source": [
        "<a href=\"https://colab.research.google.com/github/Aboutme-t/Data-Science-Bootcamp-Project-Portfolio/blob/main/testtest.ipynb\" target=\"_parent\"><img src=\"https://colab.research.google.com/assets/colab-badge.svg\" alt=\"Open In Colab\"/></a>"
      ]
    },
    {
      "cell_type": "code",
      "execution_count": 9,
      "metadata": {
        "colab": {
          "base_uri": "https://localhost:8080/"
        },
        "id": "t8htM0kCJ-LI",
        "outputId": "8e5ffbb8-04c6-4c88-98d4-cd7c48289f6d"
      },
      "outputs": [
        {
          "output_type": "stream",
          "name": "stderr",
          "text": [
            "Installing package into ‘/usr/local/lib/R/site-library’\n",
            "(as ‘lib’ is unspecified)\n",
            "\n",
            "Installing package into ‘/usr/local/lib/R/site-library’\n",
            "(as ‘lib’ is unspecified)\n",
            "\n",
            "Installing package into ‘/usr/local/lib/R/site-library’\n",
            "(as ‘lib’ is unspecified)\n",
            "\n",
            "also installing the dependencies ‘bitops’, ‘gtools’, ‘caTools’, ‘gplots’, ‘ROCR’\n",
            "\n",
            "\n"
          ]
        }
      ],
      "source": [
        "install.packages('caret', repos='http://cran.rstudio.com/')\n",
        "install.packages('mlbench', repos='http://cran.rstudio.com/')\n",
        "install.packages('MLmetrics', repos='http://cran.rstudio.com/')"
      ]
    },
    {
      "cell_type": "markdown",
      "source": [
        "## build ML to classify diabetes patients (binary classification)"
      ],
      "metadata": {
        "id": "arYleFJUK0um"
      }
    },
    {
      "cell_type": "code",
      "source": [
        "library(tidyverse)\n",
        "library(caret)\n",
        "library(mlbench)\n",
        "library(MLmetrics)"
      ],
      "metadata": {
        "id": "m7gQkXZEKHBJ",
        "colab": {
          "base_uri": "https://localhost:8080/"
        },
        "outputId": "fe70e537-f30d-4f53-aa4a-d7276d409a94"
      },
      "execution_count": 10,
      "outputs": [
        {
          "output_type": "stream",
          "name": "stderr",
          "text": [
            "\n",
            "Attaching package: ‘MLmetrics’\n",
            "\n",
            "\n",
            "The following objects are masked from ‘package:caret’:\n",
            "\n",
            "    MAE, RMSE\n",
            "\n",
            "\n",
            "The following object is masked from ‘package:base’:\n",
            "\n",
            "    Recall\n",
            "\n",
            "\n"
          ]
        }
      ]
    },
    {
      "cell_type": "markdown",
      "source": [
        "## Load dataset"
      ],
      "metadata": {
        "id": "3LKy-LMCLAhU"
      }
    },
    {
      "cell_type": "code",
      "source": [
        "data(\"PimaIndiansDiabetes\")\n",
        "df <- PimaIndiansDiabetes"
      ],
      "metadata": {
        "id": "7MbUiDD2LC9T"
      },
      "execution_count": 11,
      "outputs": []
    },
    {
      "cell_type": "markdown",
      "source": [
        "## Explore dataset"
      ],
      "metadata": {
        "id": "AYoL9QVXLOql"
      }
    },
    {
      "cell_type": "code",
      "source": [
        "\n",
        "## build ML to classify diabetes patients\n",
        "## binary classification\n",
        "\n",
        "library(tidyverse)\n",
        "library(caret)\n",
        "library(mlbench)\n",
        "library(MLmetrics)\n",
        "\n",
        "## load dataset\n",
        "data(\"PimaIndiansDiabetes\")\n",
        "df <- PimaIndiansDiabetes\n",
        "\n",
        "## explore dataset\n",
        "glimpse(df)\n",
        "\n",
        "## no missing value\n",
        "mean(complete.cases(df))\n",
        "\n",
        "## select variables\n",
        "df_starter <- df %>%\n",
        "  select(2,5,6,8,diabetes)\n",
        "\n",
        "## 1. split data\n",
        "set.seed(42)\n",
        "n <- nrow(df_starter)\n",
        "id <- sample(1:n, size = 0.8*n)\n",
        "train_df <- df_starter[id, ]\n",
        "test_df <- df_starter[-id, ]\n",
        "\n",
        "## 2. train\n",
        "set.seed(42)\n",
        "## logistic regression model\n",
        "ctrl <- trainControl(method=\"cv\",\n",
        "                     number=5)\n",
        "\n",
        "logis_model <- train(diabetes ~ .,\n",
        "                   data = train_df,\n",
        "                   method = \"glm\",\n",
        "                   metric = \"Accuracy\",\n",
        "                   trControl = ctrl)\n",
        "## KNN K-Nearest Neighbors\n",
        "## use for Recall, Precision, F1, AUC\n",
        "ctrl <- trainControl(method=\"cv\",\n",
        "                     number=5,\n",
        "                     ## pr = precision + recall\n",
        "                     summaryFunction = prSummary,\n",
        "                     classProbs = TRUE)\n",
        "\n",
        "knn_model <- train(diabetes ~ .,\n",
        "                   data = train_df,\n",
        "                   method = \"knn\",\n",
        "                   metric = \"AUC\",\n",
        "                   trControl = ctrl)\n",
        "\n",
        "## use for Accuracy\n",
        "ctrl <- trainControl(method=\"cv\",\n",
        "                     number=5)\n",
        "\n",
        "knn_model <- train(diabetes ~ .,\n",
        "                     data = train_df,\n",
        "                     method = \"knn\",\n",
        "                     metric = \"Accuracy\",\n",
        "                     trControl = ctrl)\n",
        "\n",
        "## 3. score\n",
        "p <- predict(logis_model, newdata = test_df)\n",
        "\n",
        "## 4. evaluate\n",
        "mean(p == test_df$diabetes)\n",
        "\n",
        "## confusion matrix\n",
        "confusionMatrix(p,\n",
        "                test_df$diabetes,\n",
        "                positive=\"pos\",\n",
        "                mode=\"prec_recall\")\n"
      ],
      "metadata": {
        "id": "eQg9nO0ULItQ",
        "colab": {
          "base_uri": "https://localhost:8080/",
          "height": 694
        },
        "outputId": "b36512f7-d270-4633-c9a8-1cf30871f753"
      },
      "execution_count": 13,
      "outputs": [
        {
          "output_type": "stream",
          "name": "stdout",
          "text": [
            "Rows: 768\n",
            "Columns: 9\n",
            "$ pregnant \u001b[3m\u001b[90m<dbl>\u001b[39m\u001b[23m 6, 1, 8, 1, 0, 5, 3, 10, 2, 8, 4, 10, 10, 1, 5, 7, 0, 7, 1, 1…\n",
            "$ glucose  \u001b[3m\u001b[90m<dbl>\u001b[39m\u001b[23m 148, 85, 183, 89, 137, 116, 78, 115, 197, 125, 110, 168, 139,…\n",
            "$ pressure \u001b[3m\u001b[90m<dbl>\u001b[39m\u001b[23m 72, 66, 64, 66, 40, 74, 50, 0, 70, 96, 92, 74, 80, 60, 72, 0,…\n",
            "$ triceps  \u001b[3m\u001b[90m<dbl>\u001b[39m\u001b[23m 35, 29, 0, 23, 35, 0, 32, 0, 45, 0, 0, 0, 0, 23, 19, 0, 47, 0…\n",
            "$ insulin  \u001b[3m\u001b[90m<dbl>\u001b[39m\u001b[23m 0, 0, 0, 94, 168, 0, 88, 0, 543, 0, 0, 0, 0, 846, 175, 0, 230…\n",
            "$ mass     \u001b[3m\u001b[90m<dbl>\u001b[39m\u001b[23m 33.6, 26.6, 23.3, 28.1, 43.1, 25.6, 31.0, 35.3, 30.5, 0.0, 37…\n",
            "$ pedigree \u001b[3m\u001b[90m<dbl>\u001b[39m\u001b[23m 0.627, 0.351, 0.672, 0.167, 2.288, 0.201, 0.248, 0.134, 0.158…\n",
            "$ age      \u001b[3m\u001b[90m<dbl>\u001b[39m\u001b[23m 50, 31, 32, 21, 33, 30, 26, 29, 53, 54, 30, 34, 57, 59, 51, 3…\n",
            "$ diabetes \u001b[3m\u001b[90m<fct>\u001b[39m\u001b[23m pos, neg, pos, neg, pos, neg, pos, neg, pos, pos, neg, pos, n…\n"
          ]
        },
        {
          "output_type": "display_data",
          "data": {
            "text/html": [
              "1"
            ],
            "text/markdown": "1",
            "text/latex": "1",
            "text/plain": [
              "[1] 1"
            ]
          },
          "metadata": {}
        },
        {
          "output_type": "display_data",
          "data": {
            "text/html": [
              "0.779220779220779"
            ],
            "text/markdown": "0.779220779220779",
            "text/latex": "0.779220779220779",
            "text/plain": [
              "[1] 0.7792208"
            ]
          },
          "metadata": {}
        },
        {
          "output_type": "display_data",
          "data": {
            "text/plain": [
              "Confusion Matrix and Statistics\n",
              "\n",
              "          Reference\n",
              "Prediction neg pos\n",
              "       neg  88  23\n",
              "       pos  11  32\n",
              "                                         \n",
              "               Accuracy : 0.7792         \n",
              "                 95% CI : (0.7054, 0.842)\n",
              "    No Information Rate : 0.6429         \n",
              "    P-Value [Acc > NIR] : 0.0001804      \n",
              "                                         \n",
              "                  Kappa : 0.4947         \n",
              "                                         \n",
              " Mcnemar's Test P-Value : 0.0592297      \n",
              "                                         \n",
              "              Precision : 0.7442         \n",
              "                 Recall : 0.5818         \n",
              "                     F1 : 0.6531         \n",
              "             Prevalence : 0.3571         \n",
              "         Detection Rate : 0.2078         \n",
              "   Detection Prevalence : 0.2792         \n",
              "      Balanced Accuracy : 0.7354         \n",
              "                                         \n",
              "       'Positive' Class : pos            \n",
              "                                         "
            ]
          },
          "metadata": {}
        }
      ]
    },
    {
      "cell_type": "code",
      "source": [],
      "metadata": {
        "id": "A2Pfe-CxLRi0"
      },
      "execution_count": null,
      "outputs": []
    }
  ]
}