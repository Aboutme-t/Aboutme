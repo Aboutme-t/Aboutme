{
 "cells":[
  {
   "cell_type":"code",
   "source":[
    "from requests import get \n",
    "import pandas as pd \n",
    "url = \"https:\/\/swapi.dev\/api\/people\/\" \n",
    "data = [] \n",
    "for i in range(5): \n",
    "                index = i + 1 \n",
    "                new_url = url + str(index) \n",
    "                res = get(new_url) \n",
    "                json_data = res.json() \n",
    "                prep_data = { \"name\" : json_data[\"name\"], \n",
    "                             \"height\" : json_data[\"height\"], \n",
    "                             \"mass\" : json_data[\"mass\"], \n",
    "                             \"birth_year\" : json_data[\"birth_year\"], \n",
    "                             \"url\" : json_data[\"homeworld\"] } \n",
    "                data.append(prep_data) \n",
    "                df = pd.DataFrame(data) \n",
    "                print(df)"
   ],
   "execution_count":null,
   "outputs":[
    
   ],
   "metadata":{
    "datalore":{
     "node_id":"6uHMkyD1iDqKYyWORgeukF",
     "type":"CODE",
     "hide_input_from_viewers":true,
     "hide_output_from_viewers":true
    }
   }
  }
 ],
 "metadata":{
  "kernelspec":{
   "display_name":"Python",
   "language":"python",
   "name":"python"
  },
  "datalore":{
   "computation_mode":"JUPYTER",
   "package_manager":"pip",
   "base_environment":"default",
   "packages":[
    
   ],
   "report_row_ids":[
    
   ],
   "version":3
  }
 },
 "nbformat":4,
 "nbformat_minor":4
}