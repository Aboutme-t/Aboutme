{
 "cells":[
  {
   "cell_type":"markdown",
   "source":[
    "# use get to request data from star war API (people)\n",
    "- import requests\n",
    "- create loop for 5 url API reqests\n",
    "- get only name height mass birth_year url(homeworld) column\n",
    "- create Dataframe with data by pandas dataframe"
   ],
   "attachments":{
    
   },
   "metadata":{
    "datalore":{
     "node_id":"jSInthHBFtxRLQN5dQRevP",
     "type":"MD",
     "hide_input_from_viewers":true,
     "hide_output_from_viewers":true
    }
   }
  },
  {
   "cell_type":"code",
   "source":[
    "\n",
    "from requests import get \n",
    "import pandas as pd\n",
    "\n",
    "url = \"https:\/\/swapi.dev\/api\/people\/\"\n",
    "\n",
    "data = []\n",
    "\n",
    "for i in range(5):\n",
    "    index = i + 1\n",
    "    new_url = url + str(index)\n",
    "    res = get(new_url)\n",
    "    json_data = res.json()\n",
    "    prep_data = {\n",
    "        \"name\" : json_data[\"name\"],\n",
    "        \"height\" : json_data[\"height\"],\n",
    "        \"mass\" : json_data[\"mass\"],\n",
    "        \"birth_year\" : json_data[\"birth_year\"],\n",
    "        \"url\" : json_data[\"homeworld\"]\n",
    "    }\n",
    "    data.append(prep_data)\n",
    "\n",
    "df = pd.DataFrame(data)\n",
    "print(df)"
   ],
   "execution_count":27,
   "outputs":[
    {
     "name":"stdout",
     "text":[
      "             name height mass birth_year                               url\n",
      "0  Luke Skywalker    172   77      19BBY  https:\/\/swapi.dev\/api\/planets\/1\/\n",
      "1           C-3PO    167   75     112BBY  https:\/\/swapi.dev\/api\/planets\/1\/\n",
      "2           R2-D2     96   32      33BBY  https:\/\/swapi.dev\/api\/planets\/8\/\n",
      "3     Darth Vader    202  136    41.9BBY  https:\/\/swapi.dev\/api\/planets\/1\/\n",
      "4     Leia Organa    150   49      19BBY  https:\/\/swapi.dev\/api\/planets\/2\/\n"
     ],
     "output_type":"stream"
    }
   ],
   "metadata":{
    "datalore":{
     "node_id":"ZP1wHa2AvDGfxUVPsxm7Ja",
     "type":"CODE",
     "hide_input_from_viewers":false,
     "hide_output_from_viewers":false,
     "report_properties":{
      "rowId":"oiNJJvqA3BM1YCQPjJAxrz",
      "relativeY":0
     }
    }
   }
  },
  {
   "cell_type":"markdown",
   "source":[
    "# use get to request data from star war API (people)\n",
    "- create loop for 10 url API reqests\n",
    "- get only name and url column \n",
    "- create homeword dataframe"
   ],
   "attachments":{
    
   },
   "metadata":{
    "datalore":{
     "node_id":"gAVzo3MBOuMbFG3Mn6xqg5",
     "type":"MD",
     "hide_input_from_viewers":true,
     "hide_output_from_viewers":true
    }
   }
  },
  {
   "cell_type":"code",
   "source":[
    "from requests import get \n",
    "import pandas as pd\n",
    "\n",
    "url = \"https:\/\/swapi.dev\/api\/planets\/\"\n",
    "\n",
    "data2 = []\n",
    "\n",
    "for i in range(10):\n",
    "    index = i + 1\n",
    "    new_url = url + str(index)\n",
    "    wres = get(new_url)\n",
    "    wjson_data = wres.json()\n",
    "    wprep = {\n",
    "        \"homeworld_name\" : wjson_data[\"name\"],\n",
    "        \"url\" : wjson_data[\"url\"]\n",
    "    }\n",
    "    data2.append(wprep)\n",
    "\n",
    "df2  = pd.DataFrame(data2)\n",
    "print(df2)"
   ],
   "execution_count":24,
   "outputs":[
    {
     "name":"stdout",
     "text":[
      "  homeworld_name                                url\n",
      "0       Tatooine   https:\/\/swapi.dev\/api\/planets\/1\/\n",
      "1       Alderaan   https:\/\/swapi.dev\/api\/planets\/2\/\n",
      "2       Yavin IV   https:\/\/swapi.dev\/api\/planets\/3\/\n",
      "3           Hoth   https:\/\/swapi.dev\/api\/planets\/4\/\n",
      "4        Dagobah   https:\/\/swapi.dev\/api\/planets\/5\/\n",
      "5         Bespin   https:\/\/swapi.dev\/api\/planets\/6\/\n",
      "6          Endor   https:\/\/swapi.dev\/api\/planets\/7\/\n",
      "7          Naboo   https:\/\/swapi.dev\/api\/planets\/8\/\n",
      "8      Coruscant   https:\/\/swapi.dev\/api\/planets\/9\/\n",
      "9         Kamino  https:\/\/swapi.dev\/api\/planets\/10\/\n"
     ],
     "output_type":"stream"
    }
   ],
   "metadata":{
    "datalore":{
     "node_id":"94WAwqvxb0ERLbiSad9qyn",
     "type":"CODE",
     "hide_input_from_viewers":false,
     "hide_output_from_viewers":false,
     "report_properties":{
      "rowId":"vkwZagV4Z6XDYnI10TuRfp",
      "relativeY":0
     }
    }
   }
  },
  {
   "cell_type":"markdown",
   "source":[
    "# Merge 2 dataframe togeter with url colum and drop url column"
   ],
   "attachments":{
    
   },
   "metadata":{
    "datalore":{
     "node_id":"Qvrxdem7jLsWrdLdNciDVk",
     "type":"MD",
     "hide_input_from_viewers":true,
     "hide_output_from_viewers":true
    }
   }
  },
  {
   "cell_type":"code",
   "source":[
    "merge_df = pd.merge(df, df2 ,on = \"url\")\n",
    "full_df = merge_df.drop([\"url\"], axis= 1)\n",
    "full_df"
   ],
   "execution_count":31,
   "outputs":[
    {
     "data":{
      "text\/html":[
       "<div>\n",
       "<style scoped>\n",
       "    .dataframe tbody tr th:only-of-type {\n",
       "        vertical-align: middle;\n",
       "    }\n",
       "\n",
       "    .dataframe tbody tr th {\n",
       "        vertical-align: top;\n",
       "    }\n",
       "\n",
       "    .dataframe thead th {\n",
       "        text-align: right;\n",
       "    }\n",
       "<\/style>\n",
       "<table border=\"1\" class=\"dataframe\">\n",
       "  <thead>\n",
       "    <tr style=\"text-align: right;\">\n",
       "      <th><\/th>\n",
       "      <th>name<\/th>\n",
       "      <th>height<\/th>\n",
       "      <th>mass<\/th>\n",
       "      <th>birth_year<\/th>\n",
       "      <th>homeworld_name<\/th>\n",
       "    <\/tr>\n",
       "  <\/thead>\n",
       "  <tbody>\n",
       "    <tr>\n",
       "      <th>0<\/th>\n",
       "      <td>Luke Skywalker<\/td>\n",
       "      <td>172<\/td>\n",
       "      <td>77<\/td>\n",
       "      <td>19BBY<\/td>\n",
       "      <td>Tatooine<\/td>\n",
       "    <\/tr>\n",
       "    <tr>\n",
       "      <th>1<\/th>\n",
       "      <td>C-3PO<\/td>\n",
       "      <td>167<\/td>\n",
       "      <td>75<\/td>\n",
       "      <td>112BBY<\/td>\n",
       "      <td>Tatooine<\/td>\n",
       "    <\/tr>\n",
       "    <tr>\n",
       "      <th>2<\/th>\n",
       "      <td>Darth Vader<\/td>\n",
       "      <td>202<\/td>\n",
       "      <td>136<\/td>\n",
       "      <td>41.9BBY<\/td>\n",
       "      <td>Tatooine<\/td>\n",
       "    <\/tr>\n",
       "    <tr>\n",
       "      <th>3<\/th>\n",
       "      <td>R2-D2<\/td>\n",
       "      <td>96<\/td>\n",
       "      <td>32<\/td>\n",
       "      <td>33BBY<\/td>\n",
       "      <td>Naboo<\/td>\n",
       "    <\/tr>\n",
       "    <tr>\n",
       "      <th>4<\/th>\n",
       "      <td>Leia Organa<\/td>\n",
       "      <td>150<\/td>\n",
       "      <td>49<\/td>\n",
       "      <td>19BBY<\/td>\n",
       "      <td>Alderaan<\/td>\n",
       "    <\/tr>\n",
       "  <\/tbody>\n",
       "<\/table>\n",
       "<\/div>"
      ]
     },
     "metadata":{
      
     },
     "output_type":"display_data"
    }
   ],
   "metadata":{
    "datalore":{
     "node_id":"epN3PCrV9Pc35JCgDGXZ0c",
     "type":"CODE",
     "hide_input_from_viewers":true,
     "hide_output_from_viewers":true
    }
   }
  },
  {
   "cell_type":"markdown",
   "source":[
    "# Write CSV file"
   ],
   "attachments":{
    
   },
   "metadata":{
    "datalore":{
     "node_id":"YZCmh4Om4T0akWC2ZMeMQB",
     "type":"MD",
     "hide_input_from_viewers":true,
     "hide_output_from_viewers":true
    }
   }
  },
  {
   "cell_type":"code",
   "source":[
    "full_df.to_csv(\"Starwar.csv\")"
   ],
   "execution_count":null,
   "outputs":[
    
   ],
   "metadata":{
    "datalore":{
     "node_id":"qZlmsS8gKJNkvFdAPr3fsB",
     "type":"CODE",
     "hide_input_from_viewers":true,
     "hide_output_from_viewers":true
    }
   }
  }
 ],
 "metadata":{
  "kernelspec":{
   "display_name":"Python",
   "language":"python",
   "name":"python"
  },
  "datalore":{
   "computation_mode":"JUPYTER",
   "package_manager":"pip",
   "base_environment":"default",
   "packages":[
    
   ],
   "report_row_ids":[
    "oiNJJvqA3BM1YCQPjJAxrz",
    "vkwZagV4Z6XDYnI10TuRfp"
   ],
   "version":3
  }
 },
 "nbformat":4,
 "nbformat_minor":4
}