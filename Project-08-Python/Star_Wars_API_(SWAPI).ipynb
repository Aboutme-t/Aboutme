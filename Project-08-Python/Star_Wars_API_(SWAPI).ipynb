{
  "nbformat": 4,
  "nbformat_minor": 0,
  "metadata": {
    "colab": {
      "provenance": [],
      "authorship_tag": "ABX9TyPfmEW1S9PveDKAjTLiS+RY",
      "include_colab_link": true
    },
    "kernelspec": {
      "name": "python3",
      "display_name": "Python 3"
    },
    "language_info": {
      "name": "python"
    }
  },
  "cells": [
    {
      "cell_type": "markdown",
      "metadata": {
        "id": "view-in-github",
        "colab_type": "text"
      },
      "source": [
        "<a href=\"https://colab.research.google.com/github/Aboutme-t/Data-Science-Bootcamp-Project-Portfolio/blob/main/Project-08-Python/Star_Wars_API_(SWAPI).ipynb\" target=\"_parent\"><img src=\"https://colab.research.google.com/assets/colab-badge.svg\" alt=\"Open In Colab\"/></a>"
      ]
    },
    {
      "cell_type": "markdown",
      "source": [
        "# use get to request data from star war API (people)\n",
        "- import requests\n",
        "- create loop for 5 url API reqests\n",
        "- get only name height mass birth_year url(homeworld) column\n",
        "- create Dataframe with data by pandas dataframe"
      ],
      "metadata": {
        "id": "DVws_0HDRp6W"
      }
    },
    {
      "cell_type": "markdown",
      "source": [
        "```python\n",
        "from requests import get\n",
        "import pandas as pd\n",
        "\n",
        "url = \"https://swapi.dev/api/people/\"\n",
        "data = []\n",
        "\n",
        "for i in range(5):\n",
        "    index = i + 1\n",
        "    new_url = url + str(index)\n",
        "    res = get(new_url)\n",
        "    json_data = res.json()\n",
        "    prep_data = {\n",
        "        \"name\" : json_data[\"name\"],\n",
        "        \"height\" : json_data[\"height\"],\n",
        "        \"mass\" : json_data[\"mass\"],\n",
        "        \"birth_year\" : json_data[\"birth_year\"],\n",
        "        \"url\" : json_data[\"homeworld\"]\n",
        "    }\n",
        "    data.append(prep_data)\n",
        "\n",
        "df = pd.DataFrame(data)\n",
        "print(df)\n",
        "```"
      ],
      "metadata": {
        "id": "CLPH9jjga3Ld"
      }
    },
    {
      "cell_type": "markdown",
      "source": [
        "| name           | height | mass | birth_year | url                                       |\n",
        "|----------------|--------|------|------------|-------------------------------------------|\n",
        "| Luke Skywalker | 172    | 77   | 19BBY      | [Link](https://swapi.dev/api/planets/1/)  |\n",
        "| C-3PO          | 167    | 75   | 112BBY     | [Link](https://swapi.dev/api/planets/1/)  |\n",
        "| R2-D2          | 96     | 32   | 33BBY      | [Link](https://swapi.dev/api/planets/8/)  |\n",
        "| Darth Vader    | 202    | 136  | 41.9BBY    | [Link](https://swapi.dev/api/planets/1/)  |\n",
        "| Leia Organa    | 150    | 49   | 19BBY      | [Link](https://swapi.dev/api/planets/2/)  |\n"
      ],
      "metadata": {
        "id": "vDaqOsl2b5hW"
      }
    },
    {
      "cell_type": "markdown",
      "source": [
        "# use get to request data from star war API (people)\n",
        "- create loop for 10 url API reqests\n",
        "- get only name and url column\n",
        "- create homeword dataframe"
      ],
      "metadata": {
        "id": "jAEJMNviRxWB"
      }
    },
    {
      "cell_type": "markdown",
      "source": [
        "\n",
        "\n",
        "```python\n",
        "from requests import get\n",
        "import pandas as pd\n",
        "\n",
        "url = \"https://swapi.dev/api/planets/\"\n",
        "\n",
        "data2 = []\n",
        "\n",
        "for i in range(10):\n",
        "    index = i + 1\n",
        "    new_url = url + str(index)\n",
        "    wres = get(new_url)\n",
        "    wjson_data = wres.json()\n",
        "    wprep = {\n",
        "        \"homeworld_name\" : wjson_data[\"name\"],\n",
        "        \"url\" : wjson_data[\"url\"]\n",
        "    }\n",
        "    data2.append(wprep)\n",
        "\n",
        "df2  = pd.DataFrame(data2)\n",
        "print(df2)\n",
        "```\n",
        "\n"
      ],
      "metadata": {
        "id": "P2o1mU6lcAZl"
      }
    },
    {
      "cell_type": "markdown",
      "source": [
        "| homeworld_name | url                                       |\n",
        "|----------------|-------------------------------------------|\n",
        "| Tatooine       | [Link](https://swapi.dev/api/planets/1/)  |\n",
        "| Alderaan       | [Link](https://swapi.dev/api/planets/2/)  |\n",
        "| Yavin IV       | [Link](https://swapi.dev/api/planets/3/)  |\n",
        "| Hoth           | [Link](https://swapi.dev/api/planets/4/)  |\n",
        "| Dagobah        | [Link](https://swapi.dev/api/planets/5/)  |\n",
        "| Bespin         | [Link](https://swapi.dev/api/planets/6/)  |\n",
        "| Endor          | [Link](https://swapi.dev/api/planets/7/)  |\n",
        "| Naboo          | [Link](https://swapi.dev/api/planets/8/)  |\n",
        "| Coruscant      | [Link](https://swapi.dev/api/planets/9/)  |\n",
        "| Kamino         | [Link](https://swapi.dev/api/planets/10/) |\n"
      ],
      "metadata": {
        "id": "CbTy-zztcU4Y"
      }
    },
    {
      "cell_type": "markdown",
      "source": [
        "# Merge 2 dataframe togeter with url colum and drop url column"
      ],
      "metadata": {
        "id": "IQyDZbNQR4LS"
      }
    },
    {
      "cell_type": "markdown",
      "source": [
        "\n",
        "\n",
        "```python\n",
        "merge_df = pd.merge(df, df2 ,on = \"url\")\n",
        "full_df = merge_df.drop([\"url\"], axis= 1)\n",
        "full_df\n",
        "```\n",
        "\n"
      ],
      "metadata": {
        "id": "TS3mhVYHcaqa"
      }
    },
    {
      "cell_type": "markdown",
      "source": [
        "| name           | height | mass | birth_year | homeworld_name |\n",
        "|----------------|--------|------|------------|----------------|\n",
        "| Luke Skywalker | 172    | 77   | 19BBY      | Tatooine       |\n",
        "| C-3PO          | 167    | 75   | 112BBY     | Tatooine       |\n",
        "| Darth Vader    | 202    | 136  | 41.9BBY    | Tatooine       |\n",
        "| R2-D2          | 96     | 32   | 33BBY      | Naboo          |\n",
        "| Leia Organa    | 150    | 49   | 19BBY      | Alderaan       |\n"
      ],
      "metadata": {
        "id": "5VmEl7xOcjvW"
      }
    },
    {
      "cell_type": "markdown",
      "source": [
        "# Write CSV file"
      ],
      "metadata": {
        "id": "CKz6I_KYR9fI"
      }
    },
    {
      "cell_type": "code",
      "source": [
        "full_df.to_csv(\"Starwar.csv\")"
      ],
      "metadata": {
        "id": "qKHKnxGQR-GD"
      },
      "execution_count": null,
      "outputs": []
    }
  ]
}