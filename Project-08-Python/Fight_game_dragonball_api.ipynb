{
  "nbformat": 4,
  "nbformat_minor": 0,
  "metadata": {
    "colab": {
      "provenance": [],
      "authorship_tag": "ABX9TyOUPDqNcZ1CHSMsHYVNzBrH"
    },
    "kernelspec": {
      "name": "python3",
      "display_name": "Python 3"
    },
    "language_info": {
      "name": "python"
    }
  },
  "cells": [
    {
      "cell_type": "markdown",
      "source": [
        "#Create fight game with dragonball API\n",
        "- fetching random characters for each player and then determining the winner based on their ki power."
      ],
      "metadata": {
        "id": "yt_1XgKEskSu"
      }
    },
    {
      "cell_type": "markdown",
      "source": [
        "\n",
        "\n",
        "```python\n",
        "from requests import get\n",
        "from random import randint\n",
        "\n",
        "url = \"https://dragonball-api.com/api/characters/\"\n",
        "\n",
        "def get_random_character():\n",
        "    random_i = randint(1, 44)\n",
        "    character_url = url + str(random_i)\n",
        "    response = get(character_url)\n",
        "    if response.status_code == 200:\n",
        "        character_data = response.json()\n",
        "        return [character_data['name'], character_data['ki'], character_data]\n",
        "   \n",
        "# Get a random character for player one\n",
        "player_one = get_random_character()\n",
        "# Get a random character for player one\n",
        "player_one = get_random_character()\n",
        "print(f\"Player One's character is: {player_one[0]}. Your Ki power is: {player_one[1]:,.0f}\")\n",
        "\n",
        "# Get a random character for player two\n",
        "player_two = get_random_character()\n",
        "print(f\"Player Two's character is: {player_two[0]}. Your Ki power is: {player_two[1]:,.0f}\")\n",
        "\n",
        "def fight(player_one = player_one[1] , player_two = player_two[1]):\n",
        "    if player_one[1] > player_two[1]:\n",
        "        print(\"Player one wins!!\")\n",
        "    else:\n",
        "        print(\"Player two wins!!\")\n",
        "\n",
        "fight()\n",
        "\n",
        "```\n",
        "\n"
      ],
      "metadata": {
        "id": "Gq4L1PE8rnR7"
      }
    },
    {
      "cell_type": "markdown",
      "source": [
        "# Output"
      ],
      "metadata": {
        "id": "oq1PpGY9s4uy"
      }
    },
    {
      "cell_type": "markdown",
      "source": [
        "Player One's character is: Tenshinhan. Your Ki power is: 2,400,000\n",
        "\n",
        "Player Two's character is: Bardock. Your Ki power is: 450,000\n",
        "\n",
        "Player one wins!!\n"
      ],
      "metadata": {
        "id": "WVkwPWGbrsVP"
      }
    }
  ]
}