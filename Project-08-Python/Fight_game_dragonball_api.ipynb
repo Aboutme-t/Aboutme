{
  "nbformat": 4,
  "nbformat_minor": 0,
  "metadata": {
    "colab": {
      "provenance": [],
      "authorship_tag": "ABX9TyPTNKr2BRXWcl4mvWTDMSri"
    },
    "kernelspec": {
      "name": "python3",
      "display_name": "Python 3"
    },
    "language_info": {
      "name": "python"
    }
  },
  "cells": [
    {
      "cell_type": "code",
      "execution_count": 19,
      "metadata": {
        "colab": {
          "base_uri": "https://localhost:8080/"
        },
        "id": "UyyH0bHniITe",
        "outputId": "2c451d44-721c-4509-d06d-16ca6023324f"
      },
      "outputs": [
        {
          "output_type": "stream",
          "name": "stdout",
          "text": [
            "Player One's character is: Marcarita . Your Ki power is: 10 septillion\n",
            "Player Two's character is: Krillin. Your Ki power is: 1.000.000\n",
            "Player one wins!!\n"
          ]
        }
      ],
      "source": [
        "from requests import get\n",
        "from random import randint\n",
        "\n",
        "url = \"https://dragonball-api.com/api/characters/\"\n",
        "\n",
        "def get_random_character():\n",
        "    random_i = randint(1, 44)\n",
        "    character_url = url + str(random_i)\n",
        "    response = get(character_url)\n",
        "    if response.status_code == 200:\n",
        "        character_data = response.json()\n",
        "        return [character_data['name'], character_data['ki'], character_data]  # Return character_data as well\n",
        "    else:\n",
        "        print(f\"Failed to retrieve character with ID {random_i}\")\n",
        "        return None\n",
        "\n",
        "# Get a random character for player one\n",
        "player_one = get_random_character()\n",
        "if player_one:\n",
        "    print(f\"Player One's character is: {player_one[0]}. Your Ki power is: {player_one[1]}\")\n",
        "\n",
        "# Get a random character for player two\n",
        "player_two = get_random_character()\n",
        "if player_two:\n",
        "    print(f\"Player Two's character is: {player_two[0]}. Your Ki power is: {player_two[1]}\")\n",
        "\n",
        "def fight():\n",
        "    if player_one[1] > player_two[1]:\n",
        "        print(\"Player one wins!!\")\n",
        "    else:\n",
        "        print(\"Player two wins!!\")\n",
        "\n",
        "fight()\n"
      ]
    },
    {
      "cell_type": "code",
      "source": [
        "\n",
        ""
      ],
      "metadata": {
        "id": "00Ut1hMOjO4d"
      },
      "execution_count": 3,
      "outputs": []
    }
  ]
}